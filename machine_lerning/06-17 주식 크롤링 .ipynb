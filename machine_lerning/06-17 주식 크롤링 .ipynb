{
 "cells": [
  {
   "cell_type": "code",
   "execution_count": 132,
   "id": "c339dcc9-c70a-4893-8232-74220d034e2e",
   "metadata": {},
   "outputs": [
    {
     "data": {
      "text/plain": [
       "'2021-06-17'"
      ]
     },
     "execution_count": 132,
     "metadata": {},
     "output_type": "execute_result"
    }
   ],
   "source": [
    "import requests\n",
    "from bs4 import BeautifulSoup\n",
    "import pandas as pd\n",
    "import numpy as np\n",
    "import re\n",
    "from datetime import datetime\n",
    "datetime.today().strftime(\"%Y-%m-%d\")\n"
   ]
  },
  {
   "cell_type": "code",
   "execution_count": 332,
   "id": "84af7602-f693-41d2-943b-3267bea43767",
   "metadata": {
    "collapsed": true,
    "jupyter": {
     "outputs_hidden": true
    },
    "tags": []
   },
   "outputs": [
    {
     "data": {
      "text/plain": [
       "[['2021.06.17', 80900, -900, 81100, 81300, 80700, 13494704],\n",
       " ['2021.06.16', 81800, 900, 81500, 81900, 81100, 14999855],\n",
       " ['2021.06.15', 80900, 400, 80900, 81200, 80600, 10075685],\n",
       " ['2021.06.14', 80500, -500, 80800, 80900, 80500, 10550078],\n",
       " ['2021.06.11', 81000, 0, 81200, 81700, 80700, 14087962],\n",
       " ['2021.06.10', 81000, -100, 81300, 81400, 80900, 17586995],\n",
       " ['2021.06.09', 81100, -800, 81500, 82000, 81100, 14908823],\n",
       " ['2021.06.08', 81900, 0, 82300, 82600, 81800, 12781226],\n",
       " ['2021.06.07', 81900, -300, 82700, 82800, 81600, 16496197],\n",
       " ['2021.06.04', 82200, -600, 82700, 82700, 81500, 18112259],\n",
       " ['2021.06.03', 82800, 2000, 81300, 83000, 81100, 29546007],\n",
       " ['2021.06.02', 80800, 200, 80400, 81400, 80300, 16414644],\n",
       " ['2021.06.01', 80600, 100, 80500, 81300, 80100, 14058401],\n",
       " ['2021.05.31', 80500, 400, 80300, 80600, 79600, 13321324],\n",
       " ['2021.05.28', 80100, 500, 79800, 80400, 79400, 12360199],\n",
       " ['2021.05.27', 79600, -200, 80000, 80000, 79100, 23198510],\n",
       " ['2021.05.26', 79800, -100, 80400, 80500, 79700, 11984359],\n",
       " ['2021.05.25', 79900, 200, 80000, 80400, 79800, 13628942],\n",
       " ['2021.05.24', 79700, -400, 80100, 80400, 79500, 13398666],\n",
       " ['2021.05.21', 80100, 600, 80100, 81500, 79800, 20961714],\n",
       " ['2021.05.20', 79500, -100, 79400, 79700, 79100, 16541828],\n",
       " ['2021.05.18', 79600, 0, 79600, 80000, 79100, 17494407],\n",
       " ['2021.05.17', 79600, -500, 80800, 80900, 79200, 17740855],\n",
       " ['2021.05.14', 80100, 1600, 79000, 80300, 78900, 16450920],\n",
       " ['2021.05.13', 78500, -1500, 78900, 79600, 78400, 31490096],\n",
       " ['2021.05.12', 80000, -1200, 80800, 81200, 79800, 35812268],\n",
       " ['2021.05.11', 81200, -2000, 82500, 82600, 81100, 28996680],\n",
       " ['2021.05.10', 83200, 1300, 82300, 83500, 81800, 19385027],\n",
       " ['2021.05.07', 81900, -400, 81800, 82100, 81500, 14154882],\n",
       " ['2021.05.06', 82300, -300, 81700, 82300, 81700, 17047511],\n",
       " ['2021.05.04', 82600, 900, 81900, 82600, 81800, 12532550],\n",
       " ['2021.05.03', 81700, 200, 81000, 82400, 81000, 15710336],\n",
       " ['2021.04.30', 81500, -200, 81900, 82100, 81500, 18673197],\n",
       " ['2021.04.29', 81700, -400, 82400, 82500, 81500, 20000973],\n",
       " ['2021.04.28', 82100, -800, 83200, 83200, 82100, 15596759],\n",
       " ['2021.04.27', 82900, -600, 83200, 83300, 82500, 12941533],\n",
       " ['2021.04.26', 83500, 700, 82900, 83500, 82600, 15489938],\n",
       " ['2021.04.23', 82800, 400, 81900, 82900, 81600, 17805080],\n",
       " ['2021.04.22', 82400, -200, 82900, 83000, 82400, 13934746],\n",
       " ['2021.04.21', 82600, -1300, 83300, 83500, 82500, 21636079],\n",
       " ['2021.04.20', 83900, 600, 83300, 84000, 83100, 15521965],\n",
       " ['2021.04.19', 83300, -600, 83800, 84000, 83300, 15287311],\n",
       " ['2021.04.16', 83900, -200, 84700, 84700, 83600, 15429522],\n",
       " ['2021.04.15', 84100, 100, 83700, 84500, 83400, 16377412],\n",
       " ['2021.04.14', 84000, 0, 84000, 84300, 83400, 13794652],\n",
       " ['2021.04.13', 84000, 800, 83000, 84500, 82800, 15238206],\n",
       " ['2021.04.12', 83200, -400, 84100, 84100, 83100, 12915282],\n",
       " ['2021.04.09', 83600, -1100, 84700, 84900, 83400, 18193707],\n",
       " ['2021.04.08', 84700, -900, 85700, 85700, 84100, 19244259],\n",
       " ['2021.04.07', 85600, -400, 86100, 86200, 85400, 17885538],\n",
       " ['2021.04.06', 86000, 600, 86200, 86200, 85100, 19042023],\n",
       " ['2021.04.05', 85400, 600, 85800, 86000, 84800, 16255990],\n",
       " ['2021.04.02', 84800, 1900, 84000, 85200, 83900, 22997538],\n",
       " ['2021.04.01', 82900, 1500, 82500, 83000, 82000, 18676461],\n",
       " ['2021.03.31', 81400, -800, 82400, 82700, 81400, 17240518],\n",
       " ['2021.03.30', 82200, 600, 81600, 82300, 81300, 13121698],\n",
       " ['2021.03.29', 81600, 100, 81700, 81700, 81000, 14952134],\n",
       " ['2021.03.26', 81500, 300, 81400, 81600, 81000, 12845778],\n",
       " ['2021.03.25', 81200, 200, 81000, 82100, 80800, 14758826],\n",
       " ['2021.03.24', 81000, -800, 81000, 81600, 80700, 17926638],\n",
       " ['2021.03.23', 81800, -200, 82600, 82900, 81800, 13299907],\n",
       " ['2021.03.22', 82000, 100, 82000, 82300, 81700, 12670506],\n",
       " ['2021.03.19', 81900, -1000, 82100, 82500, 81800, 15869700],\n",
       " ['2021.03.18', 82900, 600, 82800, 83800, 82600, 18585244],\n",
       " ['2021.03.17', 82300, -500, 82800, 82900, 82000, 11625146],\n",
       " ['2021.03.16', 82800, 1000, 82200, 83000, 82100, 12293537],\n",
       " ['2021.03.15', 81800, -1000, 82800, 82900, 81800, 13735798],\n",
       " ['2021.03.12', 82800, 800, 83100, 83500, 82400, 13530573],\n",
       " ['2021.03.11', 82000, 1100, 81000, 82500, 81000, 23818297],\n",
       " ['2021.03.10', 80900, -500, 82400, 82500, 80700, 20038422],\n",
       " ['2021.03.09', 81400, -600, 81400, 81900, 80600, 25420764],\n",
       " ['2021.03.08', 82000, -100, 82900, 83000, 81600, 17641256],\n",
       " ['2021.03.05', 82100, -300, 81100, 82600, 81100, 20508971],\n",
       " ['2021.03.04', 82400, -1600, 82600, 83200, 82200, 24348331],\n",
       " ['2021.03.03', 84000, 400, 83500, 84000, 82800, 19882132],\n",
       " ['2021.03.02', 83600, 1100, 85100, 85300, 83000, 33498180],\n",
       " ['2021.02.26', 82500, -2800, 82800, 83400, 82000, 38520800],\n",
       " ['2021.02.25', 85300, 3300, 84000, 85400, 83000, 34155986],\n",
       " ['2021.02.24', 82000, 0, 81800, 83600, 81300, 26807651],\n",
       " ['2021.02.23', 82000, -200, 81200, 82900, 81100, 20587314],\n",
       " ['2021.02.22', 82200, -400, 83800, 84200, 82200, 25419886],\n",
       " ['2021.02.19', 82600, 500, 82300, 82800, 81000, 25880879],\n",
       " ['2021.02.18', 82100, -1100, 83200, 83600, 82100, 21327683],\n",
       " ['2021.02.17', 83200, -1700, 83900, 84200, 83000, 18307735],\n",
       " ['2021.02.16', 84900, 700, 84500, 86000, 84200, 20483100],\n",
       " ['2021.02.15', 84200, 2600, 83800, 84500, 83300, 23529706],\n",
       " ['2021.02.10', 81600, -1100, 82600, 82600, 81600, 23025766],\n",
       " ['2021.02.09', 82700, -300, 84000, 84800, 82700, 20898332],\n",
       " ['2021.02.08', 83000, -500, 83800, 84200, 83000, 15338765],\n",
       " ['2021.02.05', 83500, 1000, 83100, 84000, 82500, 18036835]]"
      ]
     },
     "execution_count": 332,
     "metadata": {},
     "output_type": "execute_result"
    }
   ],
   "source": [
    "URL = \"https://finance.naver.com/item/sise_day.nhn?code=005930\"\n",
    "stock_info = []\n",
    "for i in range(1, 10):\n",
    "    RES = requests.get(URL+f'&page={i}', headers=headers)\n",
    "    soup = BeautifulSoup(RES.text, 'html.parser')\n",
    "    \n",
    "    stock_list = soup.find_all(\"tr\",{\"onmouseover\":\"mouseOver(this)\"})\n",
    "    for tr in stock_list:\n",
    "        if tr.find_all(\"td\")[0].text == '\\xa0':\n",
    "            break\n",
    "        else:\n",
    "            date = tr.find_all(\"td\")[0].text\n",
    "            temp = []\n",
    "\n",
    "            for td in tr.find_all(\"td\")[1:]:\n",
    "                price = int(td.text.replace(\",\", \"\"))\n",
    "                temp.append(price) \n",
    "                for alts in td.select('img'):\n",
    "                    if re.search('down',alts.attrs['src']) != None:\n",
    "                        temp[1] = -temp[1]\n",
    "        stock_info.append([date]+temp)\n",
    "stock_info\n",
    "\n",
    "# for i in range(1, 10):\n",
    "    \n",
    "#     RES = requests.get(URL+f'&page={i}', headers=headers)\n",
    "#     soup = BeautifulSoup(RES.text, 'html.parser')\n",
    "    \n",
    "#     stock_list = soup.find_all(\"tr\",{\"onmouseover\":\"mouseOver(this)\"})\n",
    "#     for tr in stock_list:\n",
    "#         date = tr.find_all(\"td\")[0].text\n",
    "#         temp = []\n",
    "#         for td in tr.find_all(\"td\")[1:]:\n",
    "#             price = int(td.text.replace(\",\", \"\"))\n",
    "#             temp.append(price) \n",
    "#             for alts in td.select('img'):\n",
    "#                 if re.search('down',alts.attrs['src']) != None:\n",
    "#                     temp[1] = -temp[1]\n",
    "#         stock_info.append([date]+temp)\n",
    "# stock_info"
   ]
  },
  {
   "cell_type": "code",
   "execution_count": 346,
   "id": "be6c80ff-9656-4ad8-a2bf-200581d932b9",
   "metadata": {
    "tags": []
   },
   "outputs": [],
   "source": [
    "class stock_crawling:\n",
    "    stock_list = []\n",
    "    stock_dict = {}\n",
    "    headers = {\"user-agent\" : 'Mozilla/5.0 (Windows NT 10.0; Win64; x64) AppleWebKit/537.36 (KHTML, like Gecko) Chrome/91.0.4472.106 Safari/537.36'}\n",
    "    url = 'http://kind.krx.co.kr/corpgeneral/corpList.do?method=download&searchType=13'\n",
    "    col_name = ['날짜','종가', '전일비', '시가', '고가', '저가', '거래량' ]\n",
    "    \n",
    "    \n",
    "    def __init__(self):\n",
    "\n",
    "        \n",
    "    def code_read(self):\n",
    "        company_df= pd.read_html(url, header=0)[0]   \n",
    "        company_df = company_df[['종목코드', '회사명']]\n",
    "        company_df = company_df.rename(columns={'종목코드':'code', '회사명':'company'})\n",
    "        company_df.code = company_df.code.map('{:06d}'.format)\n",
    "        for i in range(len(company_df)): \n",
    "            stock_dict[company_df.code[i]] = company_df.company[i]\n",
    "        return company_df\n",
    "    \n",
    "    def stock_list(self):\n",
    "        for code in company_df.code:    \n",
    "            URL = f'https://finance.naver.com/item/sise_day.nhn?code={code}'\n",
    "            for i in range(1, 4):\n",
    "                RES = requests.get(URL+f'&page={i}', headers=headers)\n",
    "                soup = BeautifulSoup(RES.text, 'html.parser')\n",
    "                stock_info = soup.find_all(\"tr\",{\"onmouseover\":\"mouseOver(this)\"})\n",
    "                for tr in stock_info:\n",
    "                    if tr.find_all(\"td\")[0].text == '\\xa0':\n",
    "                        break\n",
    "                    else:\n",
    "                        date = tr.find_all(\"td\")[0].text\n",
    "                        temp = []\n",
    "                        for td in tr.find_all(\"td\")[1:]:\n",
    "                            price = int(td.text.replace(\",\", \"\"))\n",
    "                            temp.append(price) \n",
    "                            for alts in td.select('img'):\n",
    "                                if re.search('down',alts.attrs['src']) != None:\n",
    "                                    temp[1] = -temp[1]\n",
    "                    stock_list.append([date]+temp)\n",
    "        stock_df = pd.DataFrame(stock_list, columns=col_name)\n",
    "        stock_df.to_csv(\"stock_info.csv\", encoding=\"utf-8\")\n",
    "        return stock_df"
   ]
  },
  {
   "cell_type": "code",
   "execution_count": 347,
   "id": "e4612c1c-35bf-484f-83ee-1535e637d3c0",
   "metadata": {},
   "outputs": [
    {
     "name": "stderr",
     "output_type": "stream",
     "text": [
      "C:\\Users\\JG\\anaconda3\\envs\\abangers\\lib\\site-packages\\pandas\\core\\internals\\construction.py:309: VisibleDeprecationWarning: Creating an ndarray from ragged nested sequences (which is a list-or-tuple of lists-or-tuples-or ndarrays with different lengths or shapes) is deprecated. If you meant to do this, you must specify 'dtype=object' when creating the ndarray\n",
      "  values = np.array([convert(v) for v in values])\n"
     ]
    },
    {
     "ename": "ValueError",
     "evalue": "Shape of passed values is (146590, 1), indices imply (146590, 7)",
     "output_type": "error",
     "traceback": [
      "\u001b[1;31m---------------------------------------------------------------------------\u001b[0m",
      "\u001b[1;31mValueError\u001b[0m                                Traceback (most recent call last)",
      "\u001b[1;32m~\\anaconda3\\envs\\abangers\\lib\\site-packages\\pandas\\core\\internals\\managers.py\u001b[0m in \u001b[0;36mcreate_block_manager_from_blocks\u001b[1;34m(blocks, axes)\u001b[0m\n\u001b[0;32m   1674\u001b[0m                 blocks = [\n\u001b[1;32m-> 1675\u001b[1;33m                     make_block(\n\u001b[0m\u001b[0;32m   1676\u001b[0m                         \u001b[0mvalues\u001b[0m\u001b[1;33m=\u001b[0m\u001b[0mblocks\u001b[0m\u001b[1;33m[\u001b[0m\u001b[1;36m0\u001b[0m\u001b[1;33m]\u001b[0m\u001b[1;33m,\u001b[0m \u001b[0mplacement\u001b[0m\u001b[1;33m=\u001b[0m\u001b[0mslice\u001b[0m\u001b[1;33m(\u001b[0m\u001b[1;36m0\u001b[0m\u001b[1;33m,\u001b[0m \u001b[0mlen\u001b[0m\u001b[1;33m(\u001b[0m\u001b[0maxes\u001b[0m\u001b[1;33m[\u001b[0m\u001b[1;36m0\u001b[0m\u001b[1;33m]\u001b[0m\u001b[1;33m)\u001b[0m\u001b[1;33m)\u001b[0m\u001b[1;33m,\u001b[0m \u001b[0mndim\u001b[0m\u001b[1;33m=\u001b[0m\u001b[1;36m2\u001b[0m\u001b[1;33m\u001b[0m\u001b[1;33m\u001b[0m\u001b[0m\n",
      "\u001b[1;32m~\\anaconda3\\envs\\abangers\\lib\\site-packages\\pandas\\core\\internals\\blocks.py\u001b[0m in \u001b[0;36mmake_block\u001b[1;34m(values, placement, klass, ndim, dtype)\u001b[0m\n\u001b[0;32m   2741\u001b[0m \u001b[1;33m\u001b[0m\u001b[0m\n\u001b[1;32m-> 2742\u001b[1;33m     \u001b[1;32mreturn\u001b[0m \u001b[0mklass\u001b[0m\u001b[1;33m(\u001b[0m\u001b[0mvalues\u001b[0m\u001b[1;33m,\u001b[0m \u001b[0mndim\u001b[0m\u001b[1;33m=\u001b[0m\u001b[0mndim\u001b[0m\u001b[1;33m,\u001b[0m \u001b[0mplacement\u001b[0m\u001b[1;33m=\u001b[0m\u001b[0mplacement\u001b[0m\u001b[1;33m)\u001b[0m\u001b[1;33m\u001b[0m\u001b[1;33m\u001b[0m\u001b[0m\n\u001b[0m\u001b[0;32m   2743\u001b[0m \u001b[1;33m\u001b[0m\u001b[0m\n",
      "\u001b[1;32m~\\anaconda3\\envs\\abangers\\lib\\site-packages\\pandas\\core\\internals\\blocks.py\u001b[0m in \u001b[0;36m__init__\u001b[1;34m(self, values, placement, ndim)\u001b[0m\n\u001b[0;32m    141\u001b[0m         \u001b[1;32mif\u001b[0m \u001b[0mself\u001b[0m\u001b[1;33m.\u001b[0m\u001b[0m_validate_ndim\u001b[0m \u001b[1;32mand\u001b[0m \u001b[0mself\u001b[0m\u001b[1;33m.\u001b[0m\u001b[0mndim\u001b[0m \u001b[1;32mand\u001b[0m \u001b[0mlen\u001b[0m\u001b[1;33m(\u001b[0m\u001b[0mself\u001b[0m\u001b[1;33m.\u001b[0m\u001b[0mmgr_locs\u001b[0m\u001b[1;33m)\u001b[0m \u001b[1;33m!=\u001b[0m \u001b[0mlen\u001b[0m\u001b[1;33m(\u001b[0m\u001b[0mself\u001b[0m\u001b[1;33m.\u001b[0m\u001b[0mvalues\u001b[0m\u001b[1;33m)\u001b[0m\u001b[1;33m:\u001b[0m\u001b[1;33m\u001b[0m\u001b[1;33m\u001b[0m\u001b[0m\n\u001b[1;32m--> 142\u001b[1;33m             raise ValueError(\n\u001b[0m\u001b[0;32m    143\u001b[0m                 \u001b[1;34mf\"Wrong number of items passed {len(self.values)}, \"\u001b[0m\u001b[1;33m\u001b[0m\u001b[1;33m\u001b[0m\u001b[0m\n",
      "\u001b[1;31mValueError\u001b[0m: Wrong number of items passed 1, placement implies 7",
      "\nDuring handling of the above exception, another exception occurred:\n",
      "\u001b[1;31mValueError\u001b[0m                                Traceback (most recent call last)",
      "\u001b[1;32m<ipython-input-347-39bfe09a1ac0>\u001b[0m in \u001b[0;36m<module>\u001b[1;34m\u001b[0m\n\u001b[0;32m      1\u001b[0m \u001b[0mdb\u001b[0m \u001b[1;33m=\u001b[0m \u001b[0mstock_crawling\u001b[0m\u001b[1;33m(\u001b[0m\u001b[1;33m)\u001b[0m\u001b[1;33m\u001b[0m\u001b[1;33m\u001b[0m\u001b[0m\n\u001b[0;32m      2\u001b[0m \u001b[0mdb\u001b[0m\u001b[1;33m.\u001b[0m\u001b[0mcode_read\u001b[0m\u001b[1;33m(\u001b[0m\u001b[1;33m)\u001b[0m\u001b[1;33m\u001b[0m\u001b[1;33m\u001b[0m\u001b[0m\n\u001b[1;32m----> 3\u001b[1;33m \u001b[0mdb\u001b[0m\u001b[1;33m.\u001b[0m\u001b[0mstock_list\u001b[0m\u001b[1;33m(\u001b[0m\u001b[1;33m)\u001b[0m\u001b[1;33m\u001b[0m\u001b[1;33m\u001b[0m\u001b[0m\n\u001b[0m",
      "\u001b[1;32m<ipython-input-346-fc73f940364c>\u001b[0m in \u001b[0;36mstock_list\u001b[1;34m(self)\u001b[0m\n\u001b[0;32m     37\u001b[0m                                     \u001b[0mtemp\u001b[0m\u001b[1;33m[\u001b[0m\u001b[1;36m1\u001b[0m\u001b[1;33m]\u001b[0m \u001b[1;33m=\u001b[0m \u001b[1;33m-\u001b[0m\u001b[0mtemp\u001b[0m\u001b[1;33m[\u001b[0m\u001b[1;36m1\u001b[0m\u001b[1;33m]\u001b[0m\u001b[1;33m\u001b[0m\u001b[1;33m\u001b[0m\u001b[0m\n\u001b[0;32m     38\u001b[0m                     \u001b[0mstock_list\u001b[0m\u001b[1;33m.\u001b[0m\u001b[0mappend\u001b[0m\u001b[1;33m(\u001b[0m\u001b[1;33m[\u001b[0m\u001b[0mdate\u001b[0m\u001b[1;33m]\u001b[0m\u001b[1;33m+\u001b[0m\u001b[0mtemp\u001b[0m\u001b[1;33m)\u001b[0m\u001b[1;33m\u001b[0m\u001b[1;33m\u001b[0m\u001b[0m\n\u001b[1;32m---> 39\u001b[1;33m         \u001b[0mstock_df\u001b[0m \u001b[1;33m=\u001b[0m \u001b[0mpd\u001b[0m\u001b[1;33m.\u001b[0m\u001b[0mDataFrame\u001b[0m\u001b[1;33m(\u001b[0m\u001b[0mstock_list\u001b[0m\u001b[1;33m,\u001b[0m \u001b[0mcolumns\u001b[0m\u001b[1;33m=\u001b[0m\u001b[0mcol_name\u001b[0m\u001b[1;33m)\u001b[0m\u001b[1;33m\u001b[0m\u001b[1;33m\u001b[0m\u001b[0m\n\u001b[0m\u001b[0;32m     40\u001b[0m         \u001b[0mstock_df\u001b[0m\u001b[1;33m.\u001b[0m\u001b[0mto_csv\u001b[0m\u001b[1;33m(\u001b[0m\u001b[1;34m\"stock_info.csv\"\u001b[0m\u001b[1;33m,\u001b[0m \u001b[0mencoding\u001b[0m\u001b[1;33m=\u001b[0m\u001b[1;34m\"utf-8\"\u001b[0m\u001b[1;33m)\u001b[0m\u001b[1;33m\u001b[0m\u001b[1;33m\u001b[0m\u001b[0m\n\u001b[0;32m     41\u001b[0m         \u001b[1;32mreturn\u001b[0m \u001b[0mstock_df\u001b[0m\u001b[1;33m\u001b[0m\u001b[1;33m\u001b[0m\u001b[0m\n",
      "\u001b[1;32m~\\anaconda3\\envs\\abangers\\lib\\site-packages\\pandas\\core\\frame.py\u001b[0m in \u001b[0;36m__init__\u001b[1;34m(self, data, index, columns, dtype, copy)\u001b[0m\n\u001b[0;32m    582\u001b[0m                     \u001b[0mmgr\u001b[0m \u001b[1;33m=\u001b[0m \u001b[0marrays_to_mgr\u001b[0m\u001b[1;33m(\u001b[0m\u001b[0marrays\u001b[0m\u001b[1;33m,\u001b[0m \u001b[0mcolumns\u001b[0m\u001b[1;33m,\u001b[0m \u001b[0mindex\u001b[0m\u001b[1;33m,\u001b[0m \u001b[0mcolumns\u001b[0m\u001b[1;33m,\u001b[0m \u001b[0mdtype\u001b[0m\u001b[1;33m=\u001b[0m\u001b[0mdtype\u001b[0m\u001b[1;33m)\u001b[0m\u001b[1;33m\u001b[0m\u001b[1;33m\u001b[0m\u001b[0m\n\u001b[0;32m    583\u001b[0m                 \u001b[1;32melse\u001b[0m\u001b[1;33m:\u001b[0m\u001b[1;33m\u001b[0m\u001b[1;33m\u001b[0m\u001b[0m\n\u001b[1;32m--> 584\u001b[1;33m                     \u001b[0mmgr\u001b[0m \u001b[1;33m=\u001b[0m \u001b[0minit_ndarray\u001b[0m\u001b[1;33m(\u001b[0m\u001b[0mdata\u001b[0m\u001b[1;33m,\u001b[0m \u001b[0mindex\u001b[0m\u001b[1;33m,\u001b[0m \u001b[0mcolumns\u001b[0m\u001b[1;33m,\u001b[0m \u001b[0mdtype\u001b[0m\u001b[1;33m=\u001b[0m\u001b[0mdtype\u001b[0m\u001b[1;33m,\u001b[0m \u001b[0mcopy\u001b[0m\u001b[1;33m=\u001b[0m\u001b[0mcopy\u001b[0m\u001b[1;33m)\u001b[0m\u001b[1;33m\u001b[0m\u001b[1;33m\u001b[0m\u001b[0m\n\u001b[0m\u001b[0;32m    585\u001b[0m             \u001b[1;32melse\u001b[0m\u001b[1;33m:\u001b[0m\u001b[1;33m\u001b[0m\u001b[1;33m\u001b[0m\u001b[0m\n\u001b[0;32m    586\u001b[0m                 \u001b[0mmgr\u001b[0m \u001b[1;33m=\u001b[0m \u001b[0minit_dict\u001b[0m\u001b[1;33m(\u001b[0m\u001b[1;33m{\u001b[0m\u001b[1;33m}\u001b[0m\u001b[1;33m,\u001b[0m \u001b[0mindex\u001b[0m\u001b[1;33m,\u001b[0m \u001b[0mcolumns\u001b[0m\u001b[1;33m,\u001b[0m \u001b[0mdtype\u001b[0m\u001b[1;33m=\u001b[0m\u001b[0mdtype\u001b[0m\u001b[1;33m)\u001b[0m\u001b[1;33m\u001b[0m\u001b[1;33m\u001b[0m\u001b[0m\n",
      "\u001b[1;32m~\\anaconda3\\envs\\abangers\\lib\\site-packages\\pandas\\core\\internals\\construction.py\u001b[0m in \u001b[0;36minit_ndarray\u001b[1;34m(values, index, columns, dtype, copy)\u001b[0m\n\u001b[0;32m    236\u001b[0m         \u001b[0mblock_values\u001b[0m \u001b[1;33m=\u001b[0m \u001b[1;33m[\u001b[0m\u001b[0mvalues\u001b[0m\u001b[1;33m]\u001b[0m\u001b[1;33m\u001b[0m\u001b[1;33m\u001b[0m\u001b[0m\n\u001b[0;32m    237\u001b[0m \u001b[1;33m\u001b[0m\u001b[0m\n\u001b[1;32m--> 238\u001b[1;33m     \u001b[1;32mreturn\u001b[0m \u001b[0mcreate_block_manager_from_blocks\u001b[0m\u001b[1;33m(\u001b[0m\u001b[0mblock_values\u001b[0m\u001b[1;33m,\u001b[0m \u001b[1;33m[\u001b[0m\u001b[0mcolumns\u001b[0m\u001b[1;33m,\u001b[0m \u001b[0mindex\u001b[0m\u001b[1;33m]\u001b[0m\u001b[1;33m)\u001b[0m\u001b[1;33m\u001b[0m\u001b[1;33m\u001b[0m\u001b[0m\n\u001b[0m\u001b[0;32m    239\u001b[0m \u001b[1;33m\u001b[0m\u001b[0m\n\u001b[0;32m    240\u001b[0m \u001b[1;33m\u001b[0m\u001b[0m\n",
      "\u001b[1;32m~\\anaconda3\\envs\\abangers\\lib\\site-packages\\pandas\\core\\internals\\managers.py\u001b[0m in \u001b[0;36mcreate_block_manager_from_blocks\u001b[1;34m(blocks, axes)\u001b[0m\n\u001b[0;32m   1685\u001b[0m         \u001b[0mblocks\u001b[0m \u001b[1;33m=\u001b[0m \u001b[1;33m[\u001b[0m\u001b[0mgetattr\u001b[0m\u001b[1;33m(\u001b[0m\u001b[0mb\u001b[0m\u001b[1;33m,\u001b[0m \u001b[1;34m\"values\"\u001b[0m\u001b[1;33m,\u001b[0m \u001b[0mb\u001b[0m\u001b[1;33m)\u001b[0m \u001b[1;32mfor\u001b[0m \u001b[0mb\u001b[0m \u001b[1;32min\u001b[0m \u001b[0mblocks\u001b[0m\u001b[1;33m]\u001b[0m\u001b[1;33m\u001b[0m\u001b[1;33m\u001b[0m\u001b[0m\n\u001b[0;32m   1686\u001b[0m         \u001b[0mtot_items\u001b[0m \u001b[1;33m=\u001b[0m \u001b[0msum\u001b[0m\u001b[1;33m(\u001b[0m\u001b[0mb\u001b[0m\u001b[1;33m.\u001b[0m\u001b[0mshape\u001b[0m\u001b[1;33m[\u001b[0m\u001b[1;36m0\u001b[0m\u001b[1;33m]\u001b[0m \u001b[1;32mfor\u001b[0m \u001b[0mb\u001b[0m \u001b[1;32min\u001b[0m \u001b[0mblocks\u001b[0m\u001b[1;33m)\u001b[0m\u001b[1;33m\u001b[0m\u001b[1;33m\u001b[0m\u001b[0m\n\u001b[1;32m-> 1687\u001b[1;33m         \u001b[1;32mraise\u001b[0m \u001b[0mconstruction_error\u001b[0m\u001b[1;33m(\u001b[0m\u001b[0mtot_items\u001b[0m\u001b[1;33m,\u001b[0m \u001b[0mblocks\u001b[0m\u001b[1;33m[\u001b[0m\u001b[1;36m0\u001b[0m\u001b[1;33m]\u001b[0m\u001b[1;33m.\u001b[0m\u001b[0mshape\u001b[0m\u001b[1;33m[\u001b[0m\u001b[1;36m1\u001b[0m\u001b[1;33m:\u001b[0m\u001b[1;33m]\u001b[0m\u001b[1;33m,\u001b[0m \u001b[0maxes\u001b[0m\u001b[1;33m,\u001b[0m \u001b[0me\u001b[0m\u001b[1;33m)\u001b[0m\u001b[1;33m\u001b[0m\u001b[1;33m\u001b[0m\u001b[0m\n\u001b[0m\u001b[0;32m   1688\u001b[0m \u001b[1;33m\u001b[0m\u001b[0m\n\u001b[0;32m   1689\u001b[0m \u001b[1;33m\u001b[0m\u001b[0m\n",
      "\u001b[1;31mValueError\u001b[0m: Shape of passed values is (146590, 1), indices imply (146590, 7)"
     ]
    }
   ],
   "source": [
    "db = stock_crawling()\n",
    "db.code_read()\n",
    "db.stock_list()"
   ]
  },
  {
   "cell_type": "code",
   "execution_count": null,
   "id": "76f54ae1-2fc1-4814-9425-9dfca9218858",
   "metadata": {},
   "outputs": [],
   "source": []
  }
 ],
 "metadata": {
  "kernelspec": {
   "display_name": "Python 3",
   "language": "python",
   "name": "python3"
  },
  "language_info": {
   "codemirror_mode": {
    "name": "ipython",
    "version": 3
   },
   "file_extension": ".py",
   "mimetype": "text/x-python",
   "name": "python",
   "nbconvert_exporter": "python",
   "pygments_lexer": "ipython3",
   "version": "3.8.8"
  }
 },
 "nbformat": 4,
 "nbformat_minor": 5
}
