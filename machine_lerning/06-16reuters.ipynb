{
 "cells": [
  {
   "cell_type": "code",
   "execution_count": 1,
   "id": "e9b0702d-c6f5-4de6-9668-aa609e683441",
   "metadata": {},
   "outputs": [
    {
     "name": "stderr",
     "output_type": "stream",
     "text": [
      "C:\\Users\\JG\\anaconda3\\envs\\abangers\\lib\\site-packages\\keras\\datasets\\reuters.py:143: VisibleDeprecationWarning: Creating an ndarray from ragged nested sequences (which is a list-or-tuple of lists-or-tuples-or ndarrays with different lengths or shapes) is deprecated. If you meant to do this, you must specify 'dtype=object' when creating the ndarray\n",
      "  x_train, y_train = np.array(xs[:idx]), np.array(labels[:idx])\n",
      "C:\\Users\\JG\\anaconda3\\envs\\abangers\\lib\\site-packages\\keras\\datasets\\reuters.py:144: VisibleDeprecationWarning: Creating an ndarray from ragged nested sequences (which is a list-or-tuple of lists-or-tuples-or ndarrays with different lengths or shapes) is deprecated. If you meant to do this, you must specify 'dtype=object' when creating the ndarray\n",
      "  x_test, y_test = np.array(xs[idx:]), np.array(labels[idx:])\n"
     ]
    },
    {
     "name": "stdout",
     "output_type": "stream",
     "text": [
      "\n",
      "\n"
     ]
    }
   ],
   "source": [
    "import pandas as pd\n",
    "import numpy as np\n",
    "from keras.datasets import reuters\n",
    "import tensorflow as tf\n",
    "from sklearn.preprocessing import MinMaxScaler\n",
    "from tensorflow.keras.models import Sequential\n",
    "from tensorflow.keras.layers import Dense\n",
    "np.random.seed(121)\n",
    "tf.random.set_seed(121)\n",
    "\n",
    "(train_data, train_labels), (test_data, test_labels) = reuters.load_data(num_words=10000)\n",
    "\n",
    "train_data_df = pd.DataFrame(train_data)\n",
    "train_labels_df = pd.DataFrame(train_labels)\n",
    "\n",
    "reuters_df = pd.DataFrame(train_data_df)\n",
    "reuters_df.columns=['train_data']\n",
    "reuters_df['train_labels'] = train_labels_df\n",
    "\n",
    "\n",
    "y_train = np.asarray(train_labels).astype('float32')\n",
    "y_test = np.asarray(test_labels).astype('float32')\n",
    "\n",
    "\n",
    "def vectorize_sequences(sequences, dimension=10000):\n",
    "    results = np.zeros((len(sequences), dimension))\n",
    "    for i, sequence in enumerate(sequences):\n",
    "\n",
    "        results[i, sequence] = 1. \n",
    "    print()\n",
    "    return results\n",
    "\n",
    "x_train = vectorize_sequences(train_data)\n",
    "x_test = vectorize_sequences(test_data)\n",
    "\n",
    "\n",
    "from keras.utils.np_utils import to_categorical\n",
    "y_train = to_categorical(train_labels)\n",
    "y_test = to_categorical(test_labels)"
   ]
  },
  {
   "cell_type": "code",
   "execution_count": 2,
   "id": "87bdd56c-a916-4796-bb9b-986f4578f094",
   "metadata": {},
   "outputs": [],
   "source": [
    "x_val = x_train[:1000].astype(float)\n",
    "partial_x_train = x_train[1000:].astype(float)\n",
    "\n",
    "y_val = y_train[:1000].astype(float)\n",
    "partial_y_train = y_train[1000:].astype(float)"
   ]
  },
  {
   "cell_type": "code",
   "execution_count": 3,
   "id": "968c9141-554c-4b70-8acd-1157773461cc",
   "metadata": {},
   "outputs": [],
   "source": [
    "from keras import models\n",
    "from keras import layers\n",
    "\n",
    "model = models.Sequential()\n",
    "model.add(layers.Dense(150, activation='ELU', input_shape=(10000,)))\n",
    "model.add(layers.Dense(100, activation='relu'))\n",
    "model.add(layers.Dense(46, activation='softmax'))\n",
    "\n",
    "model.compile(optimizer='Nadam',\n",
    "              loss='categorical_crossentropy',\n",
    "              metrics=['categorical_accuracy'])\n"
   ]
  },
  {
   "cell_type": "code",
   "execution_count": 4,
   "id": "1297bd0e-fd8b-45cc-aeaa-c1a35e9298d7",
   "metadata": {},
   "outputs": [
    {
     "name": "stdout",
     "output_type": "stream",
     "text": [
      "Epoch 1/15\n",
      "40/40 [==============================] - 30s 94ms/step - loss: 2.6346 - categorical_accuracy: 0.4981 - val_loss: 1.1700 - val_categorical_accuracy: 0.7430\n",
      "Epoch 2/15\n",
      "40/40 [==============================] - 3s 67ms/step - loss: 0.8679 - categorical_accuracy: 0.8077 - val_loss: 0.9173 - val_categorical_accuracy: 0.8070\n",
      "Epoch 3/15\n",
      "40/40 [==============================] - 3s 70ms/step - loss: 0.4454 - categorical_accuracy: 0.9117 - val_loss: 0.8542 - val_categorical_accuracy: 0.8270\n",
      "Epoch 4/15\n",
      "40/40 [==============================] - 3s 68ms/step - loss: 0.2845 - categorical_accuracy: 0.9421 - val_loss: 0.8818 - val_categorical_accuracy: 0.8200\n",
      "Epoch 5/15\n",
      "40/40 [==============================] - 3s 72ms/step - loss: 0.1878 - categorical_accuracy: 0.9554 - val_loss: 0.8798 - val_categorical_accuracy: 0.8160\n",
      "Epoch 6/15\n",
      "40/40 [==============================] - 3s 72ms/step - loss: 0.1724 - categorical_accuracy: 0.9511 - val_loss: 0.9196 - val_categorical_accuracy: 0.8150\n",
      "Epoch 7/15\n",
      "40/40 [==============================] - ETA: 0s - loss: 0.1407 - categorical_accuracy: 0.95 - 3s 71ms/step - loss: 0.1412 - categorical_accuracy: 0.9592 - val_loss: 0.9417 - val_categorical_accuracy: 0.8100\n",
      "Epoch 8/15\n",
      "40/40 [==============================] - 3s 71ms/step - loss: 0.1375 - categorical_accuracy: 0.9542 - val_loss: 0.9398 - val_categorical_accuracy: 0.8130\n",
      "Epoch 9/15\n",
      "40/40 [==============================] - 3s 71ms/step - loss: 0.1240 - categorical_accuracy: 0.9593 - val_loss: 0.9497 - val_categorical_accuracy: 0.8140\n",
      "Epoch 10/15\n",
      "40/40 [==============================] - 3s 71ms/step - loss: 0.1160 - categorical_accuracy: 0.9599 - val_loss: 0.9437 - val_categorical_accuracy: 0.8110\n",
      "Epoch 11/15\n",
      "40/40 [==============================] - 3s 72ms/step - loss: 0.0980 - categorical_accuracy: 0.9637 - val_loss: 0.9442 - val_categorical_accuracy: 0.8180\n",
      "Epoch 12/15\n",
      "40/40 [==============================] - 3s 77ms/step - loss: 0.1052 - categorical_accuracy: 0.9613 - val_loss: 0.9552 - val_categorical_accuracy: 0.8100\n",
      "Epoch 13/15\n",
      "40/40 [==============================] - 3s 76ms/step - loss: 0.0955 - categorical_accuracy: 0.9623 - val_loss: 0.9749 - val_categorical_accuracy: 0.8070\n",
      "Epoch 14/15\n",
      "40/40 [==============================] - 3s 83ms/step - loss: 0.1005 - categorical_accuracy: 0.9591 - val_loss: 0.9919 - val_categorical_accuracy: 0.7960\n",
      "Epoch 15/15\n",
      "40/40 [==============================] - 3s 81ms/step - loss: 0.0993 - categorical_accuracy: 0.9604 - val_loss: 0.9523 - val_categorical_accuracy: 0.8110\n",
      "32/32 [==============================] - 1s 8ms/step - loss: 0.9523 - categorical_accuracy: 0.8110\n",
      "\n",
      " cate_Accuracy: 0.8110\n"
     ]
    }
   ],
   "source": [
    "\n",
    "history = model.fit(partial_x_train,\n",
    "                    partial_y_train,\n",
    "                    epochs=15,\n",
    "                    batch_size=200,\n",
    "                    validation_data=(x_val, y_val))\n",
    "print(\"\\n cate_Accuracy: %.4f\" %(model.evaluate(x_val, y_val)[1]))"
   ]
  },
  {
   "cell_type": "code",
   "execution_count": 5,
   "id": "062f7b93-2d50-400c-bd24-3076b1f8ae28",
   "metadata": {},
   "outputs": [
    {
     "data": {
      "text/plain": [
       "dict_keys(['loss', 'categorical_accuracy', 'val_loss', 'val_categorical_accuracy'])"
      ]
     },
     "execution_count": 5,
     "metadata": {},
     "output_type": "execute_result"
    }
   ],
   "source": [
    "history_dict = history.history\n",
    "history_dict.keys()"
   ]
  },
  {
   "cell_type": "code",
   "execution_count": 6,
   "id": "f3892bfd-c252-45a0-b6d1-b61b36172f3a",
   "metadata": {},
   "outputs": [
    {
     "data": {
      "image/png": "[encoded data removed]",
      "text/plain": [
       "<Figure size 432x288 with 1 Axes>"
      ]
     },
     "metadata": {
      "needs_background": "light"
     },
     "output_type": "display_data"
    }
   ],
   "source": [
    "import matplotlib.pyplot as plt\n",
    "\n",
    "acc = history.history['categorical_accuracy']\n",
    "val_acc = history.history['val_categorical_accuracy']\n",
    "loss = history.history['loss']\n",
    "val_loss = history.history['val_loss']\n",
    "\n",
    "epochs = range(1, len(acc) + 1)\n",
    "\n",
    "# ‘bo’는 파란색 점을 의미합니다\n",
    "plt.plot(epochs, loss, 'bo', label='Training loss')\n",
    "# ‘b’는 파란색 실선을 의미합니다\n",
    "plt.plot(epochs, val_loss, 'b', label='Validation loss')\n",
    "plt.title('Training and validation loss')\n",
    "plt.xlabel('Epochs')\n",
    "plt.ylabel('Loss')\n",
    "plt.legend()\n",
    "\n",
    "plt.show()"
   ]
  },
  {
   "cell_type": "code",
   "execution_count": 7,
   "id": "4987dcc9-83fc-4564-a61f-6314f771237a",
   "metadata": {},
   "outputs": [
    {
     "data": {
      "image/png": "[encoded data removed]",
      "text/plain": [
       "<Figure size 432x288 with 1 Axes>"
      ]
     },
     "metadata": {
      "needs_background": "light"
     },
     "output_type": "display_data"
    }
   ],
   "source": [
    "import matplotlib.pyplot as plt\n",
    "\n",
    "acc = history.history['categorical_accuracy']\n",
    "val_acc = history.history['val_categorical_accuracy']\n",
    "loss = history.history['loss']\n",
    "val_loss = history.history['val_loss']\n",
    "\n",
    "epochs = range(1, len(acc) + 1)\n",
    "\n",
    "# ‘bo’는 파란색 점을 의미합니다\n",
    "plt.plot(epochs, acc, 'bo', label='Training acc')\n",
    "# ‘b’는 파란색 실선을 의미합니다\n",
    "plt.plot(epochs, val_acc, 'b', label='Validation acc')\n",
    "plt.title('Training and validation acc')\n",
    "plt.xlabel('Epochs')\n",
    "plt.ylabel('acc')\n",
    "plt.legend()\n",
    "\n",
    "plt.show()"
   ]
  },
  {
   "cell_type": "code",
   "execution_count": 8,
   "id": "7a756e1c-0b04-44b9-96ee-3b74a2fa37af",
   "metadata": {},
   "outputs": [
    {
     "name": "stdout",
     "output_type": "stream",
     "text": [
      "Epoch 1/7\n",
      "14/14 [==============================] - 2s 146ms/step - loss: 0.0799 - categorical_accuracy: 0.9655 - val_loss: 0.9723 - val_categorical_accuracy: 0.8100\n",
      "Epoch 2/7\n",
      "14/14 [==============================] - 2s 121ms/step - loss: 0.0722 - categorical_accuracy: 0.9627 - val_loss: 0.9815 - val_categorical_accuracy: 0.8120\n",
      "Epoch 3/7\n",
      "14/14 [==============================] - 2s 131ms/step - loss: 0.0692 - categorical_accuracy: 0.9619 - val_loss: 0.9857 - val_categorical_accuracy: 0.8110\n",
      "Epoch 4/7\n",
      "14/14 [==============================] - 2s 111ms/step - loss: 0.0682 - categorical_accuracy: 0.9615 - val_loss: 1.0120 - val_categorical_accuracy: 0.8030\n",
      "Epoch 5/7\n",
      "14/14 [==============================] - 2s 113ms/step - loss: 0.0675 - categorical_accuracy: 0.9614 - val_loss: 0.9912 - val_categorical_accuracy: 0.8110\n",
      "Epoch 6/7\n",
      "14/14 [==============================] - 2s 114ms/step - loss: 0.0681 - categorical_accuracy: 0.9590 - val_loss: 1.0143 - val_categorical_accuracy: 0.8150\n",
      "Epoch 7/7\n",
      "14/14 [==============================] - 1s 106ms/step - loss: 0.0666 - categorical_accuracy: 0.9607 - val_loss: 1.0227 - val_categorical_accuracy: 0.8090\n",
      "32/32 [==============================] - 0s 7ms/step - loss: 1.0227 - categorical_accuracy: 0.8090\n",
      "\n",
      " cate_Accuracy: 0.8090\n"
     ]
    }
   ],
   "source": [
    "\n",
    "history = model.fit(partial_x_train,\n",
    "                    partial_y_train,\n",
    "                    epochs=7,\n",
    "                    batch_size=200,\n",
    "                    validation_data=(x_val, y_val))\n",
    "print(\"\\n cate_Accuracy: %.4f\" %(model.evaluate(x_val, y_val)[1]))"
   ]
  },
  {
   "cell_type": "code",
   "execution_count": null,
   "id": "4b6cd8b3-b41b-4cb5-8829-2467b0cd4f7e",
   "metadata": {},
   "outputs": [],
   "source": []
  }
 ],
 "metadata": {
  "kernelspec": {
   "display_name": "Python 3",
   "language": "python",
   "name": "python3"
  },
  "language_info": {
   "codemirror_mode": {
    "name": "ipython",
    "version": 3
   },
   "file_extension": ".py",
   "mimetype": "text/x-python",
   "name": "python",
   "nbconvert_exporter": "python",
   "pygments_lexer": "ipython3",
   "version": "3.8.8"
  }
 },
 "nbformat": 4,
 "nbformat_minor": 5
}
