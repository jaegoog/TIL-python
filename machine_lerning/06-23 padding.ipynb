{
 "cells": [
  {
   "cell_type": "code",
   "execution_count": 1,
   "id": "bceb3069-c93a-414a-92b9-889e93530f79",
   "metadata": {},
   "outputs": [
    {
     "name": "stderr",
     "output_type": "stream",
     "text": [
      "<__array_function__ internals>:5: VisibleDeprecationWarning: Creating an ndarray from ragged nested sequences (which is a list-or-tuple of lists-or-tuples-or ndarrays with different lengths or shapes) is deprecated. If you meant to do this, you must specify 'dtype=object' when creating the ndarray\n",
      "C:\\Users\\JG\\anaconda3\\envs\\abangers\\lib\\site-packages\\tensorflow\\python\\keras\\datasets\\imdb.py:155: VisibleDeprecationWarning: Creating an ndarray from ragged nested sequences (which is a list-or-tuple of lists-or-tuples-or ndarrays with different lengths or shapes) is deprecated. If you meant to do this, you must specify 'dtype=object' when creating the ndarray\n",
      "  x_train, y_train = np.array(xs[:idx]), np.array(labels[:idx])\n",
      "C:\\Users\\JG\\anaconda3\\envs\\abangers\\lib\\site-packages\\tensorflow\\python\\keras\\datasets\\imdb.py:156: VisibleDeprecationWarning: Creating an ndarray from ragged nested sequences (which is a list-or-tuple of lists-or-tuples-or ndarrays with different lengths or shapes) is deprecated. If you meant to do this, you must specify 'dtype=object' when creating the ndarray\n",
      "  x_test, y_test = np.array(xs[idx:]), np.array(labels[idx:])\n"
     ]
    }
   ],
   "source": [
    "from tensorflow.keras.datasets import imdb\n",
    "from tensorflow.keras.preprocessing.sequence import pad_sequences\n",
    "\n",
    "\"\"\"padding : maxlen으로 짜르고 남은 빈 공간을 채워줌\"\"\"\n",
    "\n",
    "max_features = 10000 # 총 데이터 중 빈도수가 높은 10000개의 데이터만 쓰겠다는 것\n",
    "maxlen = 100 # 불러온 데이터를 100개만큼 자르겠다는 것\n",
    "\n",
    "(x_train, y_train), (x_test, y_test) = imdb.load_data(num_words=max_features)\n"
   ]
  },
  {
   "cell_type": "code",
   "execution_count": 2,
   "id": "62d1fba4-a259-4ae7-b0ea-ec3f0d0f8394",
   "metadata": {
    "collapsed": true,
    "jupyter": {
     "outputs_hidden": true
    },
    "tags": []
   },
   "outputs": [
    {
     "data": {
      "text/plain": [
       "[1,\n",
       " 14,\n",
       " 22,\n",
       " 16,\n",
       " 43,\n",
       " 530,\n",
       " 973,\n",
       " 1622,\n",
       " 1385,\n",
       " 65,\n",
       " 458,\n",
       " 4468,\n",
       " 66,\n",
       " 3941,\n",
       " 4,\n",
       " 173,\n",
       " 36,\n",
       " 256,\n",
       " 5,\n",
       " 25,\n",
       " 100,\n",
       " 43,\n",
       " 838,\n",
       " 112,\n",
       " 50,\n",
       " 670,\n",
       " 2,\n",
       " 9,\n",
       " 35,\n",
       " 480,\n",
       " 284,\n",
       " 5,\n",
       " 150,\n",
       " 4,\n",
       " 172,\n",
       " 112,\n",
       " 167,\n",
       " 2,\n",
       " 336,\n",
       " 385,\n",
       " 39,\n",
       " 4,\n",
       " 172,\n",
       " 4536,\n",
       " 1111,\n",
       " 17,\n",
       " 546,\n",
       " 38,\n",
       " 13,\n",
       " 447,\n",
       " 4,\n",
       " 192,\n",
       " 50,\n",
       " 16,\n",
       " 6,\n",
       " 147,\n",
       " 2025,\n",
       " 19,\n",
       " 14,\n",
       " 22,\n",
       " 4,\n",
       " 1920,\n",
       " 4613,\n",
       " 469,\n",
       " 4,\n",
       " 22,\n",
       " 71,\n",
       " 87,\n",
       " 12,\n",
       " 16,\n",
       " 43,\n",
       " 530,\n",
       " 38,\n",
       " 76,\n",
       " 15,\n",
       " 13,\n",
       " 1247,\n",
       " 4,\n",
       " 22,\n",
       " 17,\n",
       " 515,\n",
       " 17,\n",
       " 12,\n",
       " 16,\n",
       " 626,\n",
       " 18,\n",
       " 2,\n",
       " 5,\n",
       " 62,\n",
       " 386,\n",
       " 12,\n",
       " 8,\n",
       " 316,\n",
       " 8,\n",
       " 106,\n",
       " 5,\n",
       " 4,\n",
       " 2223,\n",
       " 5244,\n",
       " 16,\n",
       " 480,\n",
       " 66,\n",
       " 3785,\n",
       " 33,\n",
       " 4,\n",
       " 130,\n",
       " 12,\n",
       " 16,\n",
       " 38,\n",
       " 619,\n",
       " 5,\n",
       " 25,\n",
       " 124,\n",
       " 51,\n",
       " 36,\n",
       " 135,\n",
       " 48,\n",
       " 25,\n",
       " 1415,\n",
       " 33,\n",
       " 6,\n",
       " 22,\n",
       " 12,\n",
       " 215,\n",
       " 28,\n",
       " 77,\n",
       " 52,\n",
       " 5,\n",
       " 14,\n",
       " 407,\n",
       " 16,\n",
       " 82,\n",
       " 2,\n",
       " 8,\n",
       " 4,\n",
       " 107,\n",
       " 117,\n",
       " 5952,\n",
       " 15,\n",
       " 256,\n",
       " 4,\n",
       " 2,\n",
       " 7,\n",
       " 3766,\n",
       " 5,\n",
       " 723,\n",
       " 36,\n",
       " 71,\n",
       " 43,\n",
       " 530,\n",
       " 476,\n",
       " 26,\n",
       " 400,\n",
       " 317,\n",
       " 46,\n",
       " 7,\n",
       " 4,\n",
       " 2,\n",
       " 1029,\n",
       " 13,\n",
       " 104,\n",
       " 88,\n",
       " 4,\n",
       " 381,\n",
       " 15,\n",
       " 297,\n",
       " 98,\n",
       " 32,\n",
       " 2071,\n",
       " 56,\n",
       " 26,\n",
       " 141,\n",
       " 6,\n",
       " 194,\n",
       " 7486,\n",
       " 18,\n",
       " 4,\n",
       " 226,\n",
       " 22,\n",
       " 21,\n",
       " 134,\n",
       " 476,\n",
       " 26,\n",
       " 480,\n",
       " 5,\n",
       " 144,\n",
       " 30,\n",
       " 5535,\n",
       " 18,\n",
       " 51,\n",
       " 36,\n",
       " 28,\n",
       " 224,\n",
       " 92,\n",
       " 25,\n",
       " 104,\n",
       " 4,\n",
       " 226,\n",
       " 65,\n",
       " 16,\n",
       " 38,\n",
       " 1334,\n",
       " 88,\n",
       " 12,\n",
       " 16,\n",
       " 283,\n",
       " 5,\n",
       " 16,\n",
       " 4472,\n",
       " 113,\n",
       " 103,\n",
       " 32,\n",
       " 15,\n",
       " 16,\n",
       " 5345,\n",
       " 19,\n",
       " 178,\n",
       " 32]"
      ]
     },
     "execution_count": 2,
     "metadata": {},
     "output_type": "execute_result"
    }
   ],
   "source": [
    "x_train[0]"
   ]
  },
  {
   "cell_type": "code",
   "execution_count": 3,
   "id": "bceb75d9-d8fb-4c9c-a63f-392563701684",
   "metadata": {},
   "outputs": [
    {
     "data": {
      "text/plain": [
       "218"
      ]
     },
     "execution_count": 3,
     "metadata": {},
     "output_type": "execute_result"
    }
   ],
   "source": [
    "len(x_train[0])"
   ]
  },
  {
   "cell_type": "markdown",
   "id": "6de8e8ee-e716-4d81-8580-c08a1df09c56",
   "metadata": {},
   "source": [
    "### Padding"
   ]
  },
  {
   "cell_type": "code",
   "execution_count": 4,
   "id": "b6cc892d-9211-4176-b217-d89a2062c32c",
   "metadata": {},
   "outputs": [],
   "source": [
    "# padding 자르는 기준은 padding='pre'가defalut(뒤쪽부터 자름), padding='post'는 앞쪽부터 자름\n",
    "x_train = pad_sequences(x_train, maxlen=maxlen) #, padding='post') # [0, 0, 0, 3, 5, 7]\n",
    "x_test = pad_sequences(x_test, maxlen=maxlen)"
   ]
  },
  {
   "cell_type": "code",
   "execution_count": 5,
   "id": "625c63a8-0112-4e2c-8c00-1fb2723c767e",
   "metadata": {
    "tags": []
   },
   "outputs": [
    {
     "data": {
      "text/plain": [
       "array([1415,   33,    6,   22,   12,  215,   28,   77,   52,    5,   14,\n",
       "        407,   16,   82,    2,    8,    4,  107,  117, 5952,   15,  256,\n",
       "          4,    2,    7, 3766,    5,  723,   36,   71,   43,  530,  476,\n",
       "         26,  400,  317,   46,    7,    4,    2, 1029,   13,  104,   88,\n",
       "          4,  381,   15,  297,   98,   32, 2071,   56,   26,  141,    6,\n",
       "        194, 7486,   18,    4,  226,   22,   21,  134,  476,   26,  480,\n",
       "          5,  144,   30, 5535,   18,   51,   36,   28,  224,   92,   25,\n",
       "        104,    4,  226,   65,   16,   38, 1334,   88,   12,   16,  283,\n",
       "          5,   16, 4472,  113,  103,   32,   15,   16, 5345,   19,  178,\n",
       "         32])"
      ]
     },
     "execution_count": 5,
     "metadata": {},
     "output_type": "execute_result"
    }
   ],
   "source": [
    "x_train[0] # 뒤에서부터 maxlen만큼 자른 것"
   ]
  },
  {
   "cell_type": "code",
   "execution_count": 6,
   "id": "9707c70a-0560-4b32-acc6-7a85dc9138b9",
   "metadata": {},
   "outputs": [
    {
     "data": {
      "text/plain": [
       "100"
      ]
     },
     "execution_count": 6,
     "metadata": {},
     "output_type": "execute_result"
    }
   ],
   "source": [
    "len(x_train[0])"
   ]
  },
  {
   "cell_type": "code",
   "execution_count": 7,
   "id": "4f2e1133-1f37-4d05-a26e-ab17268748af",
   "metadata": {},
   "outputs": [
    {
     "data": {
      "text/plain": [
       "(25000, 100)"
      ]
     },
     "execution_count": 7,
     "metadata": {},
     "output_type": "execute_result"
    }
   ],
   "source": [
    "# x_train 데이터 전부 100개씩 자름 만약 비어있는 곳이 생기면 0으로 채움\n",
    "x_train.shape"
   ]
  },
  {
   "cell_type": "markdown",
   "id": "57c81d81-43f9-4fc6-b34c-af2deea577d1",
   "metadata": {},
   "source": [
    "# SimpleRNN (=바닐라 RNN)\n",
    "#### 장기기억 문제가 생김 => LSTM\n",
    "#### LSTM은 훈련이 너무 오래걸리고 복잡함(gate들이 많음) => GRU"
   ]
  },
  {
   "cell_type": "code",
   "execution_count": 8,
   "id": "5fa48c9e-133e-4cec-8a55-e4c4bcda79b8",
   "metadata": {},
   "outputs": [],
   "source": [
    "from tensorflow.keras import Sequential\n",
    "from tensorflow.keras.layers import Dense, Embedding, GRU, LSTM, SimpleRNN"
   ]
  },
  {
   "cell_type": "code",
   "execution_count": 9,
   "id": "55330dcd-00b1-4c3a-a26b-e3620f979a84",
   "metadata": {
    "tags": []
   },
   "outputs": [
    {
     "name": "stdout",
     "output_type": "stream",
     "text": [
      "Epoch 1/10\n",
      "157/157 [==============================] - 14s 71ms/step - loss: 0.5974 - acc: 0.6647 - val_loss: 0.4666 - val_acc: 0.7832\n",
      "Epoch 2/10\n",
      "157/157 [==============================] - 6s 41ms/step - loss: 0.3601 - acc: 0.8533 - val_loss: 0.4550 - val_acc: 0.8116\n",
      "Epoch 3/10\n",
      "157/157 [==============================] - 7s 47ms/step - loss: 0.2696 - acc: 0.8953 - val_loss: 0.3820 - val_acc: 0.8232\n",
      "Epoch 4/10\n",
      "157/157 [==============================] - 7s 47ms/step - loss: 0.2074 - acc: 0.9230 - val_loss: 0.4049 - val_acc: 0.8386\n",
      "Epoch 5/10\n",
      "157/157 [==============================] - 8s 48ms/step - loss: 0.1439 - acc: 0.9491 - val_loss: 0.4440 - val_acc: 0.8206\n",
      "Epoch 6/10\n",
      "157/157 [==============================] - 8s 49ms/step - loss: 0.0906 - acc: 0.9715 - val_loss: 0.5229 - val_acc: 0.8310\n",
      "Epoch 7/10\n",
      "157/157 [==============================] - 7s 46ms/step - loss: 0.0507 - acc: 0.9856 - val_loss: 0.6561 - val_acc: 0.7574\n",
      "Epoch 8/10\n",
      "157/157 [==============================] - 9s 60ms/step - loss: 0.0297 - acc: 0.9914 - val_loss: 0.6277 - val_acc: 0.7938\n",
      "Epoch 9/10\n",
      "157/157 [==============================] - 10s 62ms/step - loss: 0.0184 - acc: 0.9951 - val_loss: 0.6527 - val_acc: 0.8156\n",
      "Epoch 10/10\n",
      "157/157 [==============================] - 7s 45ms/step - loss: 0.0094 - acc: 0.9977 - val_loss: 0.7022 - val_acc: 0.8150\n"
     ]
    }
   ],
   "source": [
    "\n",
    "model = Sequential()\n",
    "model.add(Embedding(max_features, 32)) # Embedding 토큰(data)을 벡터화 시키고 가중치도 줌?\n",
    "                                       # 32 ; 차원을 축소시킴 \n",
    "model.add(SimpleRNN(32))\n",
    "model.add(Dense(1, activation='sigmoid'))\n",
    "\n",
    "model.compile(optimizer='rmsprop', loss='binary_crossentropy', metrics=['acc'])\n",
    "history = model.fit(x_train, y_train, epochs=10, batch_size=128, validation_split=0.2)"
   ]
  },
  {
   "cell_type": "markdown",
   "id": "5d35ee40-cdee-4589-aead-a83683572a4c",
   "metadata": {},
   "source": [
    "# LSTM"
   ]
  },
  {
   "cell_type": "code",
   "execution_count": 10,
   "id": "c5a9ac1b-36b6-40f5-a48a-5cfe20e720eb",
   "metadata": {},
   "outputs": [
    {
     "name": "stdout",
     "output_type": "stream",
     "text": [
      "Model: \"sequential_1\"\n",
      "_________________________________________________________________\n",
      "Layer (type)                 Output Shape              Param #   \n",
      "=================================================================\n",
      "embedding_1 (Embedding)      (None, 100, 32)           320032    \n",
      "_________________________________________________________________\n",
      "lstm (LSTM)                  (None, 100, 32)           8320      \n",
      "_________________________________________________________________\n",
      "dense_1 (Dense)              (None, 100, 1)            33        \n",
      "=================================================================\n",
      "Total params: 328,385\n",
      "Trainable params: 328,385\n",
      "Non-trainable params: 0\n",
      "_________________________________________________________________\n"
     ]
    }
   ],
   "source": [
    "model = Sequential()\n",
    "model.add(Embedding(max_features+1, 32, input_length=maxlen)) # 실제 2차원 데이터 10000개를 차원을 늘려서 32개로 압축\n",
    "#model.add(LSTM(32))\n",
    "model.add(LSTM(32, return_sequences=True)) # many to one에서 출력이 하나로 나오는게 아니라 many to many처럼 각각의 출력이 나옴\n",
    "model.add(Dense(1, activation='sigmoid'))\n",
    "model.compile(optimizer='rmsprop', loss='binary_crossentropy', metrics=['acc'])\n",
    "model.summary()"
   ]
  },
  {
   "cell_type": "code",
   "execution_count": 11,
   "id": "c81a2f4f-7fd4-484d-9b7d-eb1e2f206bfa",
   "metadata": {},
   "outputs": [
    {
     "name": "stdout",
     "output_type": "stream",
     "text": [
      "Epoch 1/10\n",
      "625/625 [==============================] - 33s 48ms/step - loss: 0.5449 - acc: 0.7111 - val_loss: 0.5008 - val_acc: 0.7444\n",
      "Epoch 2/10\n",
      "625/625 [==============================] - 28s 46ms/step - loss: 0.4546 - acc: 0.7779 - val_loss: 0.4954 - val_acc: 0.7472\n",
      "Epoch 3/10\n",
      "625/625 [==============================] - 33s 53ms/step - loss: 0.4296 - acc: 0.7933 - val_loss: 0.5358 - val_acc: 0.7498\n",
      "Epoch 4/10\n",
      "625/625 [==============================] - 35s 56ms/step - loss: 0.4140 - acc: 0.8023 - val_loss: 0.4895 - val_acc: 0.7530\n",
      "Epoch 5/10\n",
      "625/625 [==============================] - 29s 46ms/step - loss: 0.4012 - acc: 0.8090 - val_loss: 0.5284 - val_acc: 0.7484\n",
      "Epoch 6/10\n",
      "625/625 [==============================] - 34s 55ms/step - loss: 0.3937 - acc: 0.8131 - val_loss: 0.5068 - val_acc: 0.7492\n",
      "Epoch 7/10\n",
      "625/625 [==============================] - 31s 50ms/step - loss: 0.3854 - acc: 0.8174 - val_loss: 0.5092 - val_acc: 0.7500\n",
      "Epoch 8/10\n",
      "625/625 [==============================] - 28s 45ms/step - loss: 0.3772 - acc: 0.8225 - val_loss: 0.5074 - val_acc: 0.7481\n",
      "Epoch 9/10\n",
      "625/625 [==============================] - 27s 44ms/step - loss: 0.3697 - acc: 0.8244 - val_loss: 0.5183 - val_acc: 0.7491\n",
      "Epoch 10/10\n",
      "625/625 [==============================] - 30s 48ms/step - loss: 0.3623 - acc: 0.8290 - val_loss: 0.5227 - val_acc: 0.7439\n"
     ]
    }
   ],
   "source": [
    "history = model.fit(x_train, y_train, epochs=10, batch_size=32, validation_split=0.2)"
   ]
  },
  {
   "cell_type": "code",
   "execution_count": null,
   "id": "940fd652-c321-49fc-bc04-baba669f50b5",
   "metadata": {},
   "outputs": [],
   "source": []
  }
 ],
 "metadata": {
  "kernelspec": {
   "display_name": "Python 3",
   "language": "python",
   "name": "python3"
  },
  "language_info": {
   "codemirror_mode": {
    "name": "ipython",
    "version": 3
   },
   "file_extension": ".py",
   "mimetype": "text/x-python",
   "name": "python",
   "nbconvert_exporter": "python",
   "pygments_lexer": "ipython3",
   "version": "3.8.8"
  }
 },
 "nbformat": 4,
 "nbformat_minor": 5
}
